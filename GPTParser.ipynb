{
 "cells": [
  {
   "cell_type": "code",
   "execution_count": 1,
   "id": "c87c2a56",
   "metadata": {},
   "outputs": [],
   "source": [
    "import pandas as pd\n",
    "from bs4 import BeautifulSoup\n",
    "import nltk\n",
    "from nltk.tokenize import word_tokenize\n",
    "from nltk.corpus import stopwords"
   ]
  },
  {
   "cell_type": "code",
   "execution_count": 2,
   "id": "0ed6811f",
   "metadata": {},
   "outputs": [],
   "source": [
    "#nltk.download('punkt')\n",
    "#nltk.download('stopwords')"
   ]
  },
  {
   "cell_type": "code",
   "execution_count": 3,
   "id": "3a1113a7",
   "metadata": {},
   "outputs": [],
   "source": [
    "file_path = \"chat.html\"\n",
    "with open(file_path, \"r\", encoding=\"utf-8\") as file:\n",
    "    html = file.read()\n",
    "\n",
    "soup = BeautifulSoup(html, \"html.parser\").decode(\"utf-8\")\n",
    "conversations = soup.split('{\"title\": ')"
   ]
  },
  {
   "cell_type": "code",
   "execution_count": 4,
   "id": "ca4125a2",
   "metadata": {},
   "outputs": [],
   "source": [
    "text_list = []\n",
    "for i in range(1,len(conversations)):\n",
    "    messages = conversations[i].split('\"parts\": [\"')\n",
    "    for j in range(2,len(messages)):\n",
    "        message = messages[j].partition('\"]}, \"status\"')[0]\n",
    "        text_list.append(message)"
   ]
  },
  {
   "cell_type": "code",
   "execution_count": 5,
   "id": "52442749",
   "metadata": {},
   "outputs": [],
   "source": [
    "text = \"\\n\".join(text_list)\n",
    "words = word_tokenize(text)\n",
    "words = [word.lower() for word in words if word.isalnum()]\n",
    "stop_words = set(stopwords.words(\"english\"))\n",
    "words = [word for word in words if word not in stop_words]"
   ]
  },
  {
   "cell_type": "code",
   "execution_count": 6,
   "id": "4d391d78",
   "metadata": {},
   "outputs": [],
   "source": [
    "data = pd.DataFrame({\n",
    "    'word': list(words)\n",
    "}).sort_values(by='word').reset_index(drop=True)\n",
    "data = data.loc[data.word != '0'].reset_index(drop=True)"
   ]
  },
  {
   "cell_type": "code",
   "execution_count": 7,
   "id": "34a2e5e1",
   "metadata": {},
   "outputs": [],
   "source": [
    "nouns_path = 'dictionary/nouns/91K nouns.txt'\n",
    "with open(nouns_path, \"r\", encoding=\"utf-8\") as file:\n",
    "    nouns_str = file.read()\n",
    "nouns = nouns_str.split('\\n')\n",
    "\n",
    "verbs_path = 'dictionary/verbs/31K verbs.txt'\n",
    "with open(verbs_path, \"r\", encoding=\"utf-8\") as file:\n",
    "    verbs_str = file.read()\n",
    "verbs = verbs_str.split('\\n')\n",
    "\n",
    "adverbs_path = 'dictionary/adverbs/6K adverbs.txt'\n",
    "with open(adverbs_path, \"r\", encoding=\"utf-8\") as file:\n",
    "    adverbs_str = file.read()\n",
    "adverbs = adverbs_str.split('\\n')\n",
    "\n",
    "adjectives_path = 'dictionary/adjectives/28K adjectives.txt'\n",
    "with open(adjectives_path, \"r\", encoding=\"utf-8\") as file:\n",
    "    adjectives_str = file.read()\n",
    "adjectives = adjectives_str.split('\\n')\n",
    "\n",
    "dictionary = nouns + verbs + adverbs + adjectives"
   ]
  },
  {
   "cell_type": "code",
   "execution_count": 8,
   "id": "be540e42",
   "metadata": {},
   "outputs": [],
   "source": [
    "data = data[data['word'].isin(dictionary)].reset_index(drop=True)\n",
    "data['noun'] = data['word'].isin(nouns).astype(int)\n",
    "data['verb'] = data['word'].isin(verbs).astype(int)\n",
    "data['adverb'] = data['word'].isin(adverbs).astype(int)\n",
    "data['adjective'] = data['word'].isin(adjectives).astype(int)"
   ]
  },
  {
   "cell_type": "code",
   "execution_count": 9,
   "id": "d5efe7c9",
   "metadata": {},
   "outputs": [],
   "source": [
    "data.to_csv('data.csv', index=False)"
   ]
  },
  {
   "cell_type": "code",
   "execution_count": null,
   "id": "b255d217",
   "metadata": {},
   "outputs": [],
   "source": []
  }
 ],
 "metadata": {
  "kernelspec": {
   "display_name": "Python 3 (ipykernel)",
   "language": "python",
   "name": "python3"
  },
  "language_info": {
   "codemirror_mode": {
    "name": "ipython",
    "version": 3
   },
   "file_extension": ".py",
   "mimetype": "text/x-python",
   "name": "python",
   "nbconvert_exporter": "python",
   "pygments_lexer": "ipython3",
   "version": "3.10.12"
  }
 },
 "nbformat": 4,
 "nbformat_minor": 5
}
